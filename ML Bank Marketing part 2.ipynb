{
 "cells": [
  {
   "cell_type": "markdown",
   "metadata": {},
   "source": [
    "# ASSIGNMENT II - ML WITH PYTHON (AI II)"
   ]
  },
  {
   "cell_type": "markdown",
   "metadata": {},
   "source": [
    "March 30, 2021"
   ]
  },
  {
   "cell_type": "code",
   "execution_count": 1,
   "metadata": {},
   "outputs": [],
   "source": [
    "import pandas as pd\n",
    "import numpy as np\n",
    "import matplotlib.pyplot as plt\n",
    "import sklearn"
   ]
  },
  {
   "cell_type": "code",
   "execution_count": 3,
   "metadata": {},
   "outputs": [],
   "source": [
    "data =pd.read_csv('./bank.csv', delimiter=';') "
   ]
  },
  {
   "cell_type": "code",
   "execution_count": 4,
   "metadata": {},
   "outputs": [],
   "source": [
    "y = data[\"y\"]\n",
    "X = data.drop(columns='y')"
   ]
  },
  {
   "cell_type": "code",
   "execution_count": 5,
   "metadata": {},
   "outputs": [],
   "source": [
    "X.drop(['pdays','contact','duration'],axis = 1, inplace = True)"
   ]
  },
  {
   "cell_type": "code",
   "execution_count": 6,
   "metadata": {},
   "outputs": [],
   "source": [
    "def plot_data(X, y, title, xlab='Feature 1', ylab='Feature 2', n_features=2):\n",
    "    colors = ['.r','.g','.b','.y','.m','.c']\n",
    "    for i, c in zip(range(0, n_features), colors):\n",
    "        plt.plot(X[y==i,0],X[y==i,1],c)\n",
    "    plt.xlabel(xlab)\n",
    "    plt.ylabel(ylab)\n",
    "    plt.title(title)"
   ]
  },
  {
   "cell_type": "markdown",
   "metadata": {},
   "source": [
    "# 1. From the modified dataset in question 2 of the previous assignment (not encoded with the features dropped), and with the help of the provided code, train a RandomForestClassifier (n_estimators=10).\n",
    "- Obtain the confusion matrix and plot the Precision vs Recall curve.\n",
    "- Justify the obtained results and the difference between accuracy and the confusion matrix."
   ]
  },
  {
   "cell_type": "code",
   "execution_count": 7,
   "metadata": {
    "scrolled": false
   },
   "outputs": [],
   "source": [
    "from sklearn.model_selection import train_test_split\n",
    "from sklearn.compose import ColumnTransformer\n",
    "from sklearn.compose import make_column_selector\n",
    "from sklearn.compose import make_column_transformer\n",
    "from sklearn.preprocessing import StandardScaler\n",
    "from sklearn.preprocessing import OrdinalEncoder"
   ]
  },
  {
   "cell_type": "code",
   "execution_count": 8,
   "metadata": {},
   "outputs": [],
   "source": [
    "categorical = X.select_dtypes(include='object').columns\n",
    "numerical = X.select_dtypes(exclude='object').columns"
   ]
  },
  {
   "cell_type": "code",
   "execution_count": 9,
   "metadata": {},
   "outputs": [],
   "source": [
    "X_train, X_test, y_train, y_test = train_test_split(X, y, random_state=42)\n",
    "\n",
    "clt = make_column_transformer((StandardScaler(), numerical),(OrdinalEncoder(),\n",
    "categorical))\n",
    "\n",
    "X_enc_tr = clt.fit_transform(X_train)\n",
    "X_enc_ts = clt.transform(X_test)"
   ]
  },
  {
   "cell_type": "markdown",
   "metadata": {},
   "source": [
    "Train a Random Forest and show the accuracy of the model:"
   ]
  },
  {
   "cell_type": "code",
   "execution_count": 10,
   "metadata": {},
   "outputs": [
    {
     "name": "stdout",
     "output_type": "stream",
     "text": [
      "RandomForestClassifier training score: 0.982\n",
      "RandomForestClassifier test score: 0.892\n"
     ]
    },
    {
     "data": {
      "text/html": [
       "<div>\n",
       "<style scoped>\n",
       "    .dataframe tbody tr th:only-of-type {\n",
       "        vertical-align: middle;\n",
       "    }\n",
       "\n",
       "    .dataframe tbody tr th {\n",
       "        vertical-align: top;\n",
       "    }\n",
       "\n",
       "    .dataframe thead th {\n",
       "        text-align: right;\n",
       "    }\n",
       "</style>\n",
       "<table border=\"1\" class=\"dataframe\">\n",
       "  <thead>\n",
       "    <tr style=\"text-align: right;\">\n",
       "      <th></th>\n",
       "      <th>age</th>\n",
       "      <th>job</th>\n",
       "      <th>marital</th>\n",
       "      <th>education</th>\n",
       "      <th>default</th>\n",
       "      <th>balance</th>\n",
       "      <th>housing</th>\n",
       "      <th>loan</th>\n",
       "      <th>day</th>\n",
       "      <th>month</th>\n",
       "      <th>campaign</th>\n",
       "      <th>previous</th>\n",
       "      <th>poutcome</th>\n",
       "    </tr>\n",
       "  </thead>\n",
       "  <tbody>\n",
       "    <tr>\n",
       "      <th>0</th>\n",
       "      <td>0.170821</td>\n",
       "      <td>0.18141</td>\n",
       "      <td>0.143835</td>\n",
       "      <td>0.067016</td>\n",
       "      <td>0.043226</td>\n",
       "      <td>0.082395</td>\n",
       "      <td>0.036055</td>\n",
       "      <td>0.04716</td>\n",
       "      <td>0.007428</td>\n",
       "      <td>0.023561</td>\n",
       "      <td>0.015931</td>\n",
       "      <td>0.114521</td>\n",
       "      <td>0.06664</td>\n",
       "    </tr>\n",
       "  </tbody>\n",
       "</table>\n",
       "</div>"
      ],
      "text/plain": [
       "        age      job   marital  education   default   balance   housing  \\\n",
       "0  0.170821  0.18141  0.143835   0.067016  0.043226  0.082395  0.036055   \n",
       "\n",
       "      loan       day     month  campaign  previous  poutcome  \n",
       "0  0.04716  0.007428  0.023561  0.015931  0.114521   0.06664  "
      ]
     },
     "metadata": {},
     "output_type": "display_data"
    }
   ],
   "source": [
    "from sklearn.ensemble import RandomForestClassifier\n",
    "\n",
    "ens = RandomForestClassifier(n_estimators=10, random_state=24)\n",
    "ens.fit(X_enc_tr, y_train)\n",
    "\n",
    "y_pred = ens.predict(X_enc_ts)\n",
    "\n",
    "print(\"RandomForestClassifier training score: {:.3f}\".format(ens.score(X_enc_tr,y_train)))\n",
    "print(\"RandomForestClassifier test score: {:.3f}\".format(ens.score(X_enc_ts,y_test)))\n",
    "display(pd.DataFrame([ens.feature_importances_],columns=X.columns))"
   ]
  },
  {
   "cell_type": "markdown",
   "metadata": {},
   "source": [
    "Obtain the confusion matrix:\n"
   ]
  },
  {
   "cell_type": "code",
   "execution_count": 11,
   "metadata": {},
   "outputs": [
    {
     "name": "stdout",
     "output_type": "stream",
     "text": [
      "Confusion matrix: \n",
      "[[989  17]\n",
      " [105  20]]\n"
     ]
    },
    {
     "data": {
      "text/plain": [
       "Text(0.5, 1.0, 'Original Confusion Matrix')"
      ]
     },
     "execution_count": 11,
     "metadata": {},
     "output_type": "execute_result"
    },
    {
     "data": {
      "image/png": "[encoded data removed]",
      "text/plain": [
       "<Figure size 432x288 with 2 Axes>"
      ]
     },
     "metadata": {
      "needs_background": "light"
     },
     "output_type": "display_data"
    }
   ],
   "source": [
    "from sklearn.metrics import confusion_matrix\n",
    "conf = confusion_matrix(y_test, y_pred)\n",
    "print(\"Confusion matrix: \\n{}\".format(conf))\n",
    "\n",
    "from sklearn.metrics import plot_confusion_matrix\n",
    "\n",
    "plot_confusion_matrix(ens, X_enc_ts, y_test, cmap=plt.cm.Blues)\n",
    "plt.title('Original Confusion Matrix')"
   ]
  },
  {
   "cell_type": "markdown",
   "metadata": {},
   "source": [
    "Plot the Precision vs Recall curve:"
   ]
  },
  {
   "cell_type": "code",
   "execution_count": 12,
   "metadata": {},
   "outputs": [
    {
     "data": {
      "text/plain": [
       "Text(0.5, 1.0, 'Precision vs Recall')"
      ]
     },
     "execution_count": 12,
     "metadata": {},
     "output_type": "execute_result"
    },
    {
     "data": {
      "image/png": "[encoded data removed]",
      "text/plain": [
       "<Figure size 432x288 with 1 Axes>"
      ]
     },
     "metadata": {
      "needs_background": "light"
     },
     "output_type": "display_data"
    }
   ],
   "source": [
    "from sklearn.metrics import plot_precision_recall_curve\n",
    "\n",
    "plot_precision_recall_curve(ens,X_enc_ts,y_test)\n",
    "plt.title('Precision vs Recall')"
   ]
  },
  {
   "cell_type": "markdown",
   "metadata": {},
   "source": [
    "Justify the obtained results and the difference between accuracy and the confusion matrix:"
   ]
  },
  {
   "cell_type": "markdown",
   "metadata": {},
   "source": [
    "Our model shows a test accuracy of 0.892, which would usually be relalated to a high performing model. However, given that our dataset is quite imbalanced (as established in assignment 1), this metric is trivial and should not be used to evaluate the model performance. This is due to the fact  that accuracy is the fraction of predictions our model got right. The model might be great at classifying the majority class, but bad at classifying the minority class and would still achieve a high accuracy score."
   ]
  },
  {
   "cell_type": "markdown",
   "metadata": {},
   "source": [
    "The confusion matrix shows the predicted vs. actual lables of the target variable. Unlike the accuracy metric, the confusion matrix gives detailed insight into how well the classifier works. For example, we can see that our model is very good at predicting the majority class 'no' (989 correct, 17 incorrect), but quite bad at predicting the minority class 'yes' (105 incorrect, 20 correct). \n",
    "\n",
    "The precision vs recall curve shows the trade off between precision and recall. As we can see, the average precision (AP) is 0.25 and either metric needs to be very low to achieve a high score on the other. A high area under the curve represents both high recall and high precision, where high precision relates to a low false positive rate, and high recall relates to a low false negative rate. In this case, the area under the curve is small, suggesting  that the classifier is neither returning accurate results (low precision), nor returning a majority of all positive results (low recall)."
   ]
  },
  {
   "cell_type": "markdown",
   "metadata": {},
   "source": [
    "# 2. Apply a PCA with 4 components, how much variance from the original dataset is represented in the new 4 components?"
   ]
  },
  {
   "cell_type": "code",
   "execution_count": 13,
   "metadata": {},
   "outputs": [],
   "source": [
    "from sklearn.decomposition import PCA"
   ]
  },
  {
   "cell_type": "code",
   "execution_count": 14,
   "metadata": {},
   "outputs": [
    {
     "name": "stdout",
     "output_type": "stream",
     "text": [
      "Variance of the dataset for each PCA component: [0.13220423 0.11466425 0.11114439 0.08688133]\n"
     ]
    }
   ],
   "source": [
    "sc = StandardScaler()\n",
    "X_train_s = sc.fit_transform(X_enc_tr)\n",
    "\n",
    "pca = PCA(n_components= 4, random_state=42).fit(X_train_s)\n",
    "X_pca = pca.transform(X_train_s)\n",
    "\n",
    "print(\"Variance of the dataset for each PCA component: {}\".format(pca.explained_variance_ratio_))\n"
   ]
  },
  {
   "cell_type": "code",
   "execution_count": 15,
   "metadata": {},
   "outputs": [
    {
     "name": "stdout",
     "output_type": "stream",
     "text": [
      "Variance explained: 44.49%\n"
     ]
    }
   ],
   "source": [
    "variance = 0\n",
    "for i in pca.explained_variance_ratio_:\n",
    "    variance = variance + i\n",
    "print(\"Variance explained: {}%\".format(round(variance*100, 2)))\n"
   ]
  },
  {
   "cell_type": "code",
   "execution_count": 16,
   "metadata": {
    "scrolled": true
   },
   "outputs": [
    {
     "data": {
      "text/html": [
       "<div>\n",
       "<style scoped>\n",
       "    .dataframe tbody tr th:only-of-type {\n",
       "        vertical-align: middle;\n",
       "    }\n",
       "\n",
       "    .dataframe tbody tr th {\n",
       "        vertical-align: top;\n",
       "    }\n",
       "\n",
       "    .dataframe thead th {\n",
       "        text-align: right;\n",
       "    }\n",
       "</style>\n",
       "<table border=\"1\" class=\"dataframe\">\n",
       "  <thead>\n",
       "    <tr style=\"text-align: right;\">\n",
       "      <th></th>\n",
       "      <th>age</th>\n",
       "      <th>job</th>\n",
       "      <th>marital</th>\n",
       "      <th>education</th>\n",
       "      <th>default</th>\n",
       "      <th>balance</th>\n",
       "      <th>housing</th>\n",
       "      <th>loan</th>\n",
       "      <th>day</th>\n",
       "      <th>month</th>\n",
       "      <th>campaign</th>\n",
       "      <th>previous</th>\n",
       "      <th>poutcome</th>\n",
       "    </tr>\n",
       "  </thead>\n",
       "  <tbody>\n",
       "    <tr>\n",
       "      <th>0</th>\n",
       "      <td>-0.096125</td>\n",
       "      <td>0.071368</td>\n",
       "      <td>-0.173793</td>\n",
       "      <td>-0.216841</td>\n",
       "      <td>0.630514</td>\n",
       "      <td>-0.059721</td>\n",
       "      <td>0.100617</td>\n",
       "      <td>0.051664</td>\n",
       "      <td>-0.041523</td>\n",
       "      <td>0.205058</td>\n",
       "      <td>-0.034879</td>\n",
       "      <td>0.188607</td>\n",
       "      <td>-0.643407</td>\n",
       "    </tr>\n",
       "    <tr>\n",
       "      <th>1</th>\n",
       "      <td>0.555403</td>\n",
       "      <td>0.024676</td>\n",
       "      <td>-0.086831</td>\n",
       "      <td>-0.093320</td>\n",
       "      <td>0.013488</td>\n",
       "      <td>-0.314040</td>\n",
       "      <td>-0.598089</td>\n",
       "      <td>-0.408603</td>\n",
       "      <td>0.021949</td>\n",
       "      <td>0.085219</td>\n",
       "      <td>0.098382</td>\n",
       "      <td>0.180212</td>\n",
       "      <td>-0.036072</td>\n",
       "    </tr>\n",
       "    <tr>\n",
       "      <th>2</th>\n",
       "      <td>0.414132</td>\n",
       "      <td>0.239291</td>\n",
       "      <td>0.025954</td>\n",
       "      <td>0.010843</td>\n",
       "      <td>0.185222</td>\n",
       "      <td>0.314899</td>\n",
       "      <td>-0.154783</td>\n",
       "      <td>0.224849</td>\n",
       "      <td>-0.123935</td>\n",
       "      <td>-0.551282</td>\n",
       "      <td>-0.182278</td>\n",
       "      <td>-0.420924</td>\n",
       "      <td>-0.181069</td>\n",
       "    </tr>\n",
       "    <tr>\n",
       "      <th>3</th>\n",
       "      <td>-0.011778</td>\n",
       "      <td>0.192827</td>\n",
       "      <td>0.593162</td>\n",
       "      <td>0.602065</td>\n",
       "      <td>0.147104</td>\n",
       "      <td>-0.222250</td>\n",
       "      <td>0.017397</td>\n",
       "      <td>-0.131339</td>\n",
       "      <td>-0.330176</td>\n",
       "      <td>0.135872</td>\n",
       "      <td>-0.141571</td>\n",
       "      <td>0.000203</td>\n",
       "      <td>-0.110676</td>\n",
       "    </tr>\n",
       "  </tbody>\n",
       "</table>\n",
       "</div>"
      ],
      "text/plain": [
       "        age       job   marital  education   default   balance   housing  \\\n",
       "0 -0.096125  0.071368 -0.173793  -0.216841  0.630514 -0.059721  0.100617   \n",
       "1  0.555403  0.024676 -0.086831  -0.093320  0.013488 -0.314040 -0.598089   \n",
       "2  0.414132  0.239291  0.025954   0.010843  0.185222  0.314899 -0.154783   \n",
       "3 -0.011778  0.192827  0.593162   0.602065  0.147104 -0.222250  0.017397   \n",
       "\n",
       "       loan       day     month  campaign  previous  poutcome  \n",
       "0  0.051664 -0.041523  0.205058 -0.034879  0.188607 -0.643407  \n",
       "1 -0.408603  0.021949  0.085219  0.098382  0.180212 -0.036072  \n",
       "2  0.224849 -0.123935 -0.551282 -0.182278 -0.420924 -0.181069  \n",
       "3 -0.131339 -0.330176  0.135872 -0.141571  0.000203 -0.110676  "
      ]
     },
     "metadata": {},
     "output_type": "display_data"
    }
   ],
   "source": [
    "display(pd.DataFrame(pca.components_, columns=X.columns))"
   ]
  },
  {
   "cell_type": "markdown",
   "metadata": {},
   "source": [
    "The  4 new  components  explain 44.49% or almost half the variance from the original dataset."
   ]
  },
  {
   "cell_type": "markdown",
   "metadata": {},
   "source": [
    "# 3. Using the PCA transformation and a RandomForestClassifier (n_estimators=10), score the model (accuracy) and compute/plot the confusion matrix.\n",
    "- Justify the obtained results and the difference between accuracy and the confusion matrix.\n",
    "- Is there an improvement if compared to exercise 1?"
   ]
  },
  {
   "cell_type": "code",
   "execution_count": 17,
   "metadata": {},
   "outputs": [
    {
     "name": "stdout",
     "output_type": "stream",
     "text": [
      "RandomForestClassifier training score: 0.982\n",
      "RandomForestClassifier test score: 0.875\n"
     ]
    }
   ],
   "source": [
    "from sklearn.decomposition import PCA\n",
    "\n",
    "X_test = pca.transform(X_enc_ts)\n",
    "\n",
    "ens_pca = RandomForestClassifier(n_estimators=10, random_state=42)\n",
    "ens_pca.fit(X_pca, y_train)\n",
    "\n",
    "y_pred = ens_pca.predict(X_test)\n",
    "\n",
    "print(\"RandomForestClassifier training score: {:.3f}\".format(ens_pca.score(X_pca,y_train)))\n",
    "print(\"RandomForestClassifier test score: {:.3f}\".format(ens_pca.score(X_test,y_test)))"
   ]
  },
  {
   "cell_type": "markdown",
   "metadata": {},
   "source": [
    "Justify the obtained results and the difference between accuracy and the confusion matrix:"
   ]
  },
  {
   "cell_type": "code",
   "execution_count": 18,
   "metadata": {},
   "outputs": [
    {
     "data": {
      "text/plain": [
       "Text(0.5, 1.0, 'PCA Confusion Matrix')"
      ]
     },
     "execution_count": 18,
     "metadata": {},
     "output_type": "execute_result"
    },
    {
     "data": {
      "image/png": "[encoded data removed]",
      "text/plain": [
       "<Figure size 432x288 with 2 Axes>"
      ]
     },
     "metadata": {
      "needs_background": "light"
     },
     "output_type": "display_data"
    }
   ],
   "source": [
    "plot_confusion_matrix(ens_pca, X_test, y_test, cmap=plt.cm.Blues)\n",
    "plt.title('PCA Confusion Matrix')"
   ]
  },
  {
   "cell_type": "markdown",
   "metadata": {},
   "source": [
    "Is there an improvement if compared to exercise 1?"
   ]
  },
  {
   "attachments": {
    "image-2.png": {
     "image/png": "[encoded data removed]"
    },
    "image.png": {
     "image/png": "[encoded data removed]"
    }
   },
   "cell_type": "markdown",
   "metadata": {},
   "source": [
    "![image.png](attachment:image.png)\n",
    "![image-2.png](attachment:image-2.png)"
   ]
  },
  {
   "cell_type": "markdown",
   "metadata": {},
   "source": [
    "The accurcy using the PCA factors is 0.875 vs 0.892 using the original dataset. Therefore, the accuracy barely suffered despite losing more than 50% of variance. However, as established in the previous questions, accuracy is not a suitable metric for this dataset, as it is heavily imbalanced."
   ]
  },
  {
   "cell_type": "markdown",
   "metadata": {},
   "source": [
    "When comparing the confusion matrices, we can see that the classifier's performance actually deteriorated. Before using PCA it only incorrectly classified 17 'no' vs. 19 'no' after applying PCA. Similarly, the original model incorrectly classified 105 'yes' as 'no' and after the PCA this number rose to 122 (only 3 'yes' were correctly labeled'. "
   ]
  },
  {
   "cell_type": "markdown",
   "metadata": {},
   "source": [
    "# 4. Using GridSearchCV optimize the model to maximize 'recall', once it is optimized obtain the best parameters, a classification report of the model and the confusion matrix.\n",
    "(Optional) use the 'balanced_accuracy_score' function to verify/extract more conclusions\n",
    "\n",
    "Note: We chose to optimize our model from question 1, as it yielded slightly better results than the model in question 3.\n",
    "\n"
   ]
  },
  {
   "cell_type": "code",
   "execution_count": 19,
   "metadata": {},
   "outputs": [],
   "source": [
    "# obtain the best parameters\n",
    "\n",
    "from sklearn.model_selection import GridSearchCV\n",
    "from sklearn.ensemble import RandomForestClassifier\n",
    "rf = RandomForestClassifier()\n",
    "parameters_rf = {'criterion':['gini'], 'n_estimators':[10,20], 'max_depth':[5,6,7]}\n"
   ]
  },
  {
   "cell_type": "code",
   "execution_count": 20,
   "metadata": {},
   "outputs": [
    {
     "name": "stdout",
     "output_type": "stream",
     "text": [
      "Best parameters for recall score: {'criterion': 'gini', 'max_depth': 7, 'n_estimators': 10}\n",
      "Best recall (macro): 0.5349699927111349\n"
     ]
    }
   ],
   "source": [
    "rgs = GridSearchCV(rf, parameters_rf, scoring='recall_macro', n_jobs=-1) \n",
    "rgs.fit(X_enc_tr , y_train)\n",
    "print(\"Best parameters for recall score: {}\".format(rgs.best_params_))\n",
    "print(\"Best recall (macro): {}\".format(rgs.best_score_))"
   ]
  },
  {
   "cell_type": "code",
   "execution_count": 21,
   "metadata": {},
   "outputs": [
    {
     "name": "stdout",
     "output_type": "stream",
     "text": [
      "Report: \n",
      "              precision    recall  f1-score   support\n",
      "\n",
      "          no       0.90      0.99      0.94      1006\n",
      "         yes       0.53      0.07      0.13       125\n",
      "\n",
      "    accuracy                           0.89      1131\n",
      "   macro avg       0.71      0.53      0.53      1131\n",
      "weighted avg       0.86      0.89      0.85      1131\n",
      "\n",
      "Confusion matrix: \n",
      "[[998   8]\n",
      " [116   9]]\n"
     ]
    }
   ],
   "source": [
    "#classification report of the model\n",
    "best_model = rgs.best_estimator_\n",
    "y_pred = best_model.predict(X_enc_ts)\n",
    "from sklearn.metrics import classification_report, precision_score,recall_score\n",
    "report = classification_report(y_test, y_pred)\n",
    "print(\"Report: \\n{}\".format(classification_report(y_test, y_pred)))\n",
    "\n",
    "\n",
    "#confusion matrix\n",
    "from sklearn.metrics import confusion_matrix\n",
    "conf = confusion_matrix(y_test, y_pred)\n",
    "print(\"Confusion matrix: \\n{}\".format(conf))"
   ]
  },
  {
   "cell_type": "markdown",
   "metadata": {},
   "source": [
    "# 5. Using the provided code, the StratifiedKFold and GridSearchCV functions; optimize and validate the model with the recall metric.\n",
    "- Justify the obtained results and compare them with the ones obtained in question 1 and 3.\n",
    "- (Optional) obtain the confusion matrix and the report from the model with higher score."
   ]
  },
  {
   "cell_type": "markdown",
   "metadata": {},
   "source": [
    "_NOTE: We only managed to run this exercise once due to lack of computer capacity and power even though we used both Jupyter Notebooks and Google Colab. Hence, we will use the results obtained in our succesful attempt to answer the question even though they are not displayed in the notebook._ "
   ]
  },
  {
   "cell_type": "code",
   "execution_count": 22,
   "metadata": {},
   "outputs": [],
   "source": [
    "y = y.replace(\"no\", 0)\n",
    "y = y.replace(\"yes\", 1)"
   ]
  },
  {
   "cell_type": "code",
   "execution_count": null,
   "metadata": {},
   "outputs": [],
   "source": [
    "from sklearn.model_selection import cross_validate, StratifiedKFold\n",
    "from sklearn.pipeline import Pipeline\n",
    "from sklearn.svm import SVC\n",
    "\n",
    "\n",
    "pipe = Pipeline(steps=[('pre',make_column_transformer((StandardScaler(), numerical),\n",
    "(OrdinalEncoder(), categorical))),('SVM',SVC())])\n",
    "parameters_rf = {'SVM__kernel':['linear','rbf'],'SVM__C':np.linspace(0.01,10,5),\n",
    "'SVM__gamma':np.linspace(0.01,10,5)}\n",
    "\n",
    "kf = StratifiedKFold(shuffle=True, n_splits = 5,random_state=42)\n",
    "rgs = GridSearchCV(pipe, parameters_rf, scoring='recall')\n",
    "cv = cross_validate(rgs, X, y, cv=kf, n_jobs=4, return_estimator=True)\n",
    "\n",
    "best_model = rgs.best_estimator_\n",
    "y_pred_recall = best_model.predict(X_enc_ts)\n",
    "\n",
    "print('Recall Score:', recall_score(y_test, y_pred_recall))\n",
    "print('Precision Score:', precision_score(y_test, y_pred_recall))\n",
    "print('Accuracy:', accuracy_score(best_model.predict(X_enc_ts),y_test))"
   ]
  },
  {
   "cell_type": "markdown",
   "metadata": {},
   "source": [
    "Here, we optimize and validate our model by using StratifiedKFold and GridSearchCV functions, however, in this case, the best recall we managed to get is only 1%, a really underpreforming result. \n",
    "\n",
    "Moreover, compared with the results from Q1 and Q3, we get worse results on both precision and recall. "
   ]
  },
  {
   "cell_type": "markdown",
   "metadata": {},
   "source": [
    "**Optional question**"
   ]
  },
  {
   "cell_type": "code",
   "execution_count": null,
   "metadata": {},
   "outputs": [],
   "source": [
    "best_model = rgs.best_estimator_\n",
    "y_pred_recall = best_model.predict(X_enc_ts)\n",
    "report = classification_report(y_test, y_pred_recall)\n",
    "print(report)\n",
    "\n",
    "from sklearn.metrics import confusion_matrix\n",
    "plot_confusion_matrix(best_model, X_enc_ts, y_test, cmap=plt.cm.Blues,normalize='true') \n",
    "plt.title('Confusion Matrix')"
   ]
  }
 ],
 "metadata": {
  "kernelspec": {
   "display_name": "Python 3",
   "language": "python",
   "name": "python3"
  },
  "language_info": {
   "codemirror_mode": {
    "name": "ipython",
    "version": 3
   },
   "file_extension": ".py",
   "mimetype": "text/x-python",
   "name": "python",
   "nbconvert_exporter": "python",
   "pygments_lexer": "ipython3",
   "version": "3.8.5"
  }
 },
 "nbformat": 4,
 "nbformat_minor": 4
}
